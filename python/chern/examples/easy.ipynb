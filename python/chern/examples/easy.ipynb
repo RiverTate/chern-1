{
 "cells": [
  {
   "cell_type": "code",
   "execution_count": 1,
   "metadata": {},
   "outputs": [],
   "source": [
    "import numpy as np\n",
    "\n",
    "def easy(kx, ky, m=2):\n",
    "    hk = np.array([[m - np.cos(kx) - np.cos(ky), np.sin(kx) - 1j * np.sin(ky)], \n",
    "                   [np.sin(kx) + 1j * np.sin(ky), -m + np.cos(kx) + np.cos(ky)]])\n",
    "    return hk"
   ]
  },
  {
   "cell_type": "code",
   "execution_count": 2,
   "metadata": {},
   "outputs": [
    {
     "data": {
      "text/plain": [
       "array([-1.,  1.])"
      ]
     },
     "execution_count": 2,
     "metadata": {},
     "output_type": "execute_result"
    }
   ],
   "source": [
    "from chern import Hamiltonian, Chern\n",
    "\n",
    "hk = Hamiltonian(easy, \"my_easy_ham\")\n",
    "Chern(hk).chern"
   ]
  }
 ],
 "metadata": {
  "kernelspec": {
   "display_name": "Python 3",
   "language": "python",
   "name": "python3"
  },
  "language_info": {
   "codemirror_mode": {
    "name": "ipython",
    "version": 3
   },
   "file_extension": ".py",
   "mimetype": "text/x-python",
   "name": "python",
   "nbconvert_exporter": "python",
   "pygments_lexer": "ipython3",
   "version": "3.7.2"
  }
 },
 "nbformat": 4,
 "nbformat_minor": 2
}
