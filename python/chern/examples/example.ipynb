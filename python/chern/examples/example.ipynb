{
 "cells": [
  {
   "cell_type": "code",
   "execution_count": 3,
   "metadata": {},
   "outputs": [],
   "source": [
    "import numpy as np\n",
    "\n",
    "\n",
    "def haldane_honeycomb(kx, ky, m=0.5, phi=np.pi/2):\n",
    "\n",
    "    k = np.array([kx / np.sqrt(3.), ky * 2. / 3.])\n",
    "\n",
    "    t1 = t2 = 1.\n",
    "\n",
    "    a1 = np.array([np.sqrt(3) * 0.5, 0.5])\n",
    "    a2 = np.array([0, -1])\n",
    "    a3 = np.array([-np.sqrt(3) * 0.5, 0.5])\n",
    "\n",
    "    b1 = a2 - a3\n",
    "    b2 = a3 - a1\n",
    "    b3 = a1 - a2\n",
    "\n",
    "    pauli0 = np.eye(2)\n",
    "    pauli1 = np.array([[0, 1], [1, 0]])\n",
    "    pauli2 = np.array([[0, -1j], [1j, 0]])\n",
    "    pauli3 = np.array([[1, 0], [0, -1]])\n",
    "\n",
    "    hk = 2 * t2 * np.cos(phi) * (\n",
    "            np.cos(k @ b1) + np.cos(k @ b2) + np.cos(k @ b3)\n",
    "    ) * pauli0 + t1 * (\n",
    "            (np.cos(k @ a1) + np.cos(k @ a2) + np.cos(k @ a3)) * pauli1 +\n",
    "            (np.sin(k @ a1) + np.sin(k @ a2) + np.sin(k @ a3)) * pauli2\n",
    "    ) + (m - 2 * t2 * np.sin(phi) * (\n",
    "            np.sin(k @ b1) + np.sin(k @ b2) + np.sin(k @ b3)\n",
    "    )) * pauli3\n",
    "\n",
    "    return hk"
   ]
  },
  {
   "cell_type": "code",
   "execution_count": 4,
   "metadata": {},
   "outputs": [
    {
     "data": {
      "text/plain": [
       "Hamiltonian(haldane:2-bands)"
      ]
     },
     "execution_count": 4,
     "metadata": {},
     "output_type": "execute_result"
    }
   ],
   "source": [
    "from chern.chern import Hamiltonian, Chern\n",
    "hk = Hamiltonian(haldane_honeycomb, \"haldane\")\n",
    "hk"
   ]
  },
  {
   "cell_type": "code",
   "execution_count": 6,
   "metadata": {},
   "outputs": [
    {
     "data": {
      "text/plain": [
       "Chern(haldane:16)"
      ]
     },
     "execution_count": 6,
     "metadata": {},
     "output_type": "execute_result"
    }
   ],
   "source": [
    "cn = Chern(hk)\n",
    "cn"
   ]
  },
  {
   "cell_type": "code",
   "execution_count": 7,
   "metadata": {},
   "outputs": [
    {
     "data": {
      "text/plain": [
       "array([-1.,  1.])"
      ]
     },
     "execution_count": 7,
     "metadata": {},
     "output_type": "execute_result"
    }
   ],
   "source": [
    "cn.chern"
   ]
  }
 ],
 "metadata": {
  "kernelspec": {
   "display_name": "Python 3",
   "language": "python",
   "name": "python3"
  },
  "language_info": {
   "codemirror_mode": {
    "name": "ipython",
    "version": 3
   },
   "file_extension": ".py",
   "mimetype": "text/x-python",
   "name": "python",
   "nbconvert_exporter": "python",
   "pygments_lexer": "ipython3",
   "version": "3.7.2"
  }
 },
 "nbformat": 4,
 "nbformat_minor": 2
}
